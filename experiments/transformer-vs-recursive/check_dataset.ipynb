{
 "cells": [
  {
   "cell_type": "code",
   "execution_count": 1,
   "metadata": {},
   "outputs": [
    {
     "name": "stderr",
     "output_type": "stream",
     "text": [
      "100%|██████████| 100000/100000 [00:02<00:00, 44493.94it/s]\n"
     ]
    }
   ],
   "source": [
    "import os\n",
    "from datasets.mini_husky import MiniHuskyDataset\n",
    "\n",
    "dataset = MiniHuskyDataset(\n",
    "    os.path.join(os.environ[\"DATA_ROOT\"],\n",
    "                 \"mini-husky/basic\",\n",
    "                 \"dataset-n100000-f10-d3-v0.20-e0.50.msgpack\"),\n",
    "    desired_key=\"expected_type\"\n",
    ")"
   ]
  },
  {
   "cell_type": "code",
   "execution_count": 2,
   "metadata": {},
   "outputs": [],
   "source": [
    "def gen_expected_type(words):\n",
    "    type_to_int = {\n",
    "        \"Bool\": 1,\n",
    "        \"Int\": 2,\n",
    "        \"Float\": 3,\n",
    "    }\n",
    "    type_dict = {}\n",
    "    ret = []\n",
    "    for i in range(len(words)):\n",
    "        if i > 2 and words[i - 3] == \"fn\":\n",
    "            cur_type = type_to_int[words[i + 2]]\n",
    "            type_dict[words[i - 2]] = cur_type\n",
    "            ret.append(cur_type)\n",
    "        elif i > 1 and words[i - 2] in type_dict:\n",
    "            ret.append(type_dict[words[i - 2]])\n",
    "        else:\n",
    "            ret.append(0)\n",
    "    \n",
    "    return ret"
   ]
  },
  {
   "cell_type": "code",
   "execution_count": 4,
   "metadata": {},
   "outputs": [
    {
     "name": "stderr",
     "output_type": "stream",
     "text": [
      "100%|██████████| 100000/100000 [00:29<00:00, 3383.98it/s]\n"
     ]
    }
   ],
   "source": [
    "import torch\n",
    "from tqdm import tqdm\n",
    "\n",
    "tot = 0\n",
    "\n",
    "# use pbar to display tot / (i+1) as percentage\n",
    "\n",
    "for i in tqdm(range(len(dataset))):\n",
    "    output = torch.tensor(gen_expected_type(dataset.data[i][0]))\n",
    "    answer = torch.stack(dataset[i][1])\n",
    "\n",
    "    if (output == answer).int().sum().item() != len(output):\n",
    "        print(i)\n"
   ]
  }
 ],
 "metadata": {
  "kernelspec": {
   "display_name": "husky",
   "language": "python",
   "name": "python3"
  },
  "language_info": {
   "codemirror_mode": {
    "name": "ipython",
    "version": 3
   },
   "file_extension": ".py",
   "mimetype": "text/x-python",
   "name": "python",
   "nbconvert_exporter": "python",
   "pygments_lexer": "ipython3",
   "version": "3.10.14"
  }
 },
 "nbformat": 4,
 "nbformat_minor": 2
}
